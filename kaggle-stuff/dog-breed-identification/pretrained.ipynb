{
 "cells": [
  {
   "cell_type": "code",
   "execution_count": 1,
   "metadata": {},
   "outputs": [
    {
     "name": "stdout",
     "output_type": "stream",
     "text": [
      "train features:  (7000, 8, 5, 1536)\n",
      "validation features:  (3000, 8, 5, 1536)\n",
      "train labels:  (7000, 120)\n",
      "validation labels:  (3000, 120)\n"
     ]
    }
   ],
   "source": [
    "import numpy as np\n",
    "\n",
    "# options: vgg19, resnet50, xception, inception_resnet_v2, \n",
    "which_model = 'inception_resnet_v2'\n",
    "model_path = './saved_models/model_trained_on_'+which_model+'_features.h5'\n",
    "\n",
    "features_dir = './features/'+which_model+'/'\n",
    "# load features\n",
    "train_features = np.load(features_dir+'train_features.npy')\n",
    "validation_features = np.load(features_dir+'validation_features.npy')\n",
    "train_labels = np.load(features_dir+'train_labels.npy')\n",
    "validation_labels = np.load(features_dir+'validation_labels.npy')\n",
    "\n",
    "\n",
    "print('train features: ', train_features.shape)\n",
    "print('validation features: ', validation_features.shape)\n",
    "print('train labels: ', train_labels.shape)\n",
    "print('validation labels: ', validation_labels.shape)\n"
   ]
  },
  {
   "cell_type": "code",
   "execution_count": 2,
   "metadata": {},
   "outputs": [
    {
     "name": "stderr",
     "output_type": "stream",
     "text": [
      "Using TensorFlow backend.\n"
     ]
    },
    {
     "name": "stdout",
     "output_type": "stream",
     "text": [
      "_________________________________________________________________\n",
      "Layer (type)                 Output Shape              Param #   \n",
      "=================================================================\n",
      "flatten_1 (Flatten)          (None, 61440)             0         \n",
      "_________________________________________________________________\n",
      "dropout_1 (Dropout)          (None, 61440)             0         \n",
      "_________________________________________________________________\n",
      "batch_normalization_1 (Batch (None, 61440)             245760    \n",
      "_________________________________________________________________\n",
      "dense_1 (Dense)              (None, 256)               15728896  \n",
      "_________________________________________________________________\n",
      "batch_normalization_2 (Batch (None, 256)               1024      \n",
      "_________________________________________________________________\n",
      "dropout_2 (Dropout)          (None, 256)               0         \n",
      "_________________________________________________________________\n",
      "dense_2 (Dense)              (None, 256)               65792     \n",
      "_________________________________________________________________\n",
      "batch_normalization_3 (Batch (None, 256)               1024      \n",
      "_________________________________________________________________\n",
      "dropout_3 (Dropout)          (None, 256)               0         \n",
      "_________________________________________________________________\n",
      "dense_3 (Dense)              (None, 120)               30840     \n",
      "=================================================================\n",
      "Total params: 16,073,336\n",
      "Trainable params: 15,949,432\n",
      "Non-trainable params: 123,904\n",
      "_________________________________________________________________\n"
     ]
    }
   ],
   "source": [
    "import os\n",
    "import keras\n",
    "from keras import models\n",
    "from keras import layers\n",
    "from keras.layers import Dropout, Flatten, Dense, BatchNormalization\n",
    "from keras import optimizers\n",
    "from keras import regularizers\n",
    "\n",
    "EPOCHS = 60\n",
    "BATCH_SIZE = 64\n",
    "\n",
    "model = models.Sequential()\n",
    "model.add(Flatten(input_shape=train_features.shape[1:]))\n",
    "model.add(Dropout(0.5))\n",
    "model.add(BatchNormalization())\n",
    "model.add(Dense(256, activation='relu', kernel_initializer='he_uniform', kernel_regularizer=regularizers.l2(0.1)))\n",
    "model.add(BatchNormalization())\n",
    "model.add(Dropout(0.5))\n",
    "model.add(Dense(256, activation='relu', kernel_initializer='he_uniform', kernel_regularizer=regularizers.l2(0.1)))\n",
    "model.add(BatchNormalization())\n",
    "model.add(Dropout(0.5))\n",
    "model.add(Dense(120, activation='softmax'))\n",
    "model.summary()\n"
   ]
  },
  {
   "cell_type": "code",
   "execution_count": 4,
   "metadata": {},
   "outputs": [
    {
     "name": "stdout",
     "output_type": "stream",
     "text": [
      "Train on 7000 samples, validate on 3000 samples\n",
      "Epoch 1/60\n",
      "7000/7000 [==============================] - 6s 808us/step - loss: 8.4458 - acc: 0.7754 - val_loss: 7.4989 - val_acc: 0.8393\n",
      "Epoch 2/60\n",
      "7000/7000 [==============================] - 4s 564us/step - loss: 6.9628 - acc: 0.8146 - val_loss: 6.2802 - val_acc: 0.8517\n",
      "Epoch 3/60\n",
      "7000/7000 [==============================] - 4s 570us/step - loss: 5.8355 - acc: 0.8323 - val_loss: 5.3175 - val_acc: 0.8533\n",
      "Epoch 4/60\n",
      "7000/7000 [==============================] - 4s 568us/step - loss: 4.9440 - acc: 0.8459 - val_loss: 4.5561 - val_acc: 0.8577\n",
      "Epoch 5/60\n",
      "7000/7000 [==============================] - 4s 577us/step - loss: 4.2355 - acc: 0.8529 - val_loss: 3.9470 - val_acc: 0.8597\n",
      "Epoch 6/60\n",
      "7000/7000 [==============================] - 4s 570us/step - loss: 3.6614 - acc: 0.8654 - val_loss: 3.4594 - val_acc: 0.8570\n",
      "Epoch 7/60\n",
      "7000/7000 [==============================] - 4s 569us/step - loss: 3.2064 - acc: 0.8701 - val_loss: 3.0680 - val_acc: 0.8590\n",
      "Epoch 8/60\n",
      "7000/7000 [==============================] - 4s 569us/step - loss: 2.8416 - acc: 0.8699 - val_loss: 2.7502 - val_acc: 0.8620\n",
      "Epoch 9/60\n",
      "7000/7000 [==============================] - 4s 575us/step - loss: 2.5156 - acc: 0.8823 - val_loss: 2.4905 - val_acc: 0.8610\n",
      "Epoch 10/60\n",
      "7000/7000 [==============================] - 4s 572us/step - loss: 2.2600 - acc: 0.8914 - val_loss: 2.2803 - val_acc: 0.8623\n",
      "Epoch 11/60\n",
      "7000/7000 [==============================] - 4s 573us/step - loss: 2.0442 - acc: 0.8976 - val_loss: 2.1046 - val_acc: 0.8627\n",
      "Epoch 12/60\n",
      "7000/7000 [==============================] - 4s 569us/step - loss: 1.8676 - acc: 0.8987 - val_loss: 1.9554 - val_acc: 0.8617\n",
      "Epoch 13/60\n",
      "7000/7000 [==============================] - 4s 569us/step - loss: 1.7178 - acc: 0.9087 - val_loss: 1.8356 - val_acc: 0.8637\n",
      "Epoch 14/60\n",
      "7000/7000 [==============================] - 4s 569us/step - loss: 1.5818 - acc: 0.9124 - val_loss: 1.7285 - val_acc: 0.8590\n",
      "Epoch 15/60\n",
      "7000/7000 [==============================] - 4s 570us/step - loss: 1.4662 - acc: 0.9199 - val_loss: 1.6436 - val_acc: 0.8607\n",
      "Epoch 16/60\n",
      "7000/7000 [==============================] - 4s 569us/step - loss: 1.3741 - acc: 0.9237 - val_loss: 1.5686 - val_acc: 0.8623\n",
      "Epoch 17/60\n",
      "7000/7000 [==============================] - 4s 577us/step - loss: 1.2946 - acc: 0.9279 - val_loss: 1.5098 - val_acc: 0.8620\n",
      "Epoch 18/60\n",
      "7000/7000 [==============================] - 4s 570us/step - loss: 1.2103 - acc: 0.9369 - val_loss: 1.4502 - val_acc: 0.8627\n",
      "Epoch 19/60\n",
      "7000/7000 [==============================] - 4s 569us/step - loss: 1.1486 - acc: 0.9376 - val_loss: 1.4035 - val_acc: 0.8630\n",
      "Epoch 20/60\n",
      "7000/7000 [==============================] - 4s 570us/step - loss: 1.0759 - acc: 0.9474 - val_loss: 1.3619 - val_acc: 0.8600\n",
      "Epoch 21/60\n",
      "7000/7000 [==============================] - 4s 567us/step - loss: 1.0368 - acc: 0.9460 - val_loss: 1.3306 - val_acc: 0.8613\n",
      "Epoch 22/60\n",
      "7000/7000 [==============================] - 4s 566us/step - loss: 0.9886 - acc: 0.9497 - val_loss: 1.2949 - val_acc: 0.8587\n",
      "Epoch 23/60\n",
      "7000/7000 [==============================] - 4s 567us/step - loss: 0.9372 - acc: 0.9549 - val_loss: 1.2587 - val_acc: 0.8637\n",
      "Epoch 24/60\n",
      "7000/7000 [==============================] - 4s 565us/step - loss: 0.8930 - acc: 0.9616 - val_loss: 1.2271 - val_acc: 0.8617\n",
      "Epoch 25/60\n",
      "7000/7000 [==============================] - 4s 567us/step - loss: 0.8621 - acc: 0.9644 - val_loss: 1.2010 - val_acc: 0.8630\n",
      "Epoch 26/60\n",
      "7000/7000 [==============================] - 4s 567us/step - loss: 0.8264 - acc: 0.9667 - val_loss: 1.1838 - val_acc: 0.8593\n",
      "Epoch 27/60\n",
      "7000/7000 [==============================] - 4s 569us/step - loss: 0.8017 - acc: 0.9676 - val_loss: 1.1629 - val_acc: 0.8610\n",
      "Epoch 28/60\n",
      "7000/7000 [==============================] - 4s 569us/step - loss: 0.7737 - acc: 0.9729 - val_loss: 1.1418 - val_acc: 0.8613\n",
      "Epoch 29/60\n",
      "7000/7000 [==============================] - 4s 569us/step - loss: 0.7535 - acc: 0.9717 - val_loss: 1.1223 - val_acc: 0.8580\n",
      "Epoch 30/60\n",
      "7000/7000 [==============================] - 4s 569us/step - loss: 0.7222 - acc: 0.9743 - val_loss: 1.0997 - val_acc: 0.8633\n",
      "Epoch 31/60\n",
      "7000/7000 [==============================] - 4s 567us/step - loss: 0.7011 - acc: 0.9760 - val_loss: 1.0774 - val_acc: 0.8633\n",
      "Epoch 32/60\n",
      "7000/7000 [==============================] - 4s 569us/step - loss: 0.6796 - acc: 0.9766 - val_loss: 1.0592 - val_acc: 0.8627\n",
      "Epoch 33/60\n",
      "7000/7000 [==============================] - 4s 569us/step - loss: 0.6572 - acc: 0.9771 - val_loss: 1.0370 - val_acc: 0.8653\n",
      "Epoch 34/60\n",
      "7000/7000 [==============================] - 4s 569us/step - loss: 0.6418 - acc: 0.9781 - val_loss: 1.0316 - val_acc: 0.8667\n",
      "Epoch 35/60\n",
      "7000/7000 [==============================] - 4s 569us/step - loss: 0.6281 - acc: 0.9787 - val_loss: 1.0230 - val_acc: 0.8607\n",
      "Epoch 36/60\n",
      "7000/7000 [==============================] - 4s 564us/step - loss: 0.6254 - acc: 0.9754 - val_loss: 1.0164 - val_acc: 0.8600\n",
      "Epoch 37/60\n",
      "7000/7000 [==============================] - 4s 564us/step - loss: 0.6053 - acc: 0.9800 - val_loss: 1.0047 - val_acc: 0.8563\n",
      "Epoch 38/60\n",
      "7000/7000 [==============================] - 4s 565us/step - loss: 0.5963 - acc: 0.9807 - val_loss: 0.9976 - val_acc: 0.8620\n",
      "Epoch 39/60\n",
      "7000/7000 [==============================] - 4s 567us/step - loss: 0.5759 - acc: 0.9836 - val_loss: 0.9923 - val_acc: 0.8577\n",
      "Epoch 40/60\n",
      "7000/7000 [==============================] - 4s 567us/step - loss: 0.5605 - acc: 0.9840 - val_loss: 0.9696 - val_acc: 0.8633\n",
      "Epoch 41/60\n",
      "7000/7000 [==============================] - 4s 567us/step - loss: 0.5436 - acc: 0.9837 - val_loss: 0.9588 - val_acc: 0.8637\n",
      "Epoch 42/60\n",
      "7000/7000 [==============================] - 4s 565us/step - loss: 0.5327 - acc: 0.9831 - val_loss: 0.9482 - val_acc: 0.8643\n",
      "Epoch 43/60\n",
      "7000/7000 [==============================] - 4s 562us/step - loss: 0.5239 - acc: 0.9847 - val_loss: 0.9474 - val_acc: 0.8603\n",
      "Epoch 44/60\n",
      "7000/7000 [==============================] - 4s 562us/step - loss: 0.5149 - acc: 0.9837 - val_loss: 0.9363 - val_acc: 0.8563\n",
      "Epoch 45/60\n",
      "7000/7000 [==============================] - 4s 569us/step - loss: 0.5048 - acc: 0.9854 - val_loss: 0.9269 - val_acc: 0.8623\n",
      "Epoch 46/60\n",
      "7000/7000 [==============================] - 4s 566us/step - loss: 0.4907 - acc: 0.9864 - val_loss: 0.9312 - val_acc: 0.8600\n",
      "Epoch 47/60\n",
      "7000/7000 [==============================] - 4s 565us/step - loss: 0.4788 - acc: 0.9874 - val_loss: 0.9132 - val_acc: 0.8650\n",
      "Epoch 48/60\n",
      "7000/7000 [==============================] - 4s 562us/step - loss: 0.4685 - acc: 0.9867 - val_loss: 0.9112 - val_acc: 0.8613\n",
      "Epoch 49/60\n",
      "7000/7000 [==============================] - 4s 564us/step - loss: 0.4643 - acc: 0.9856 - val_loss: 0.9063 - val_acc: 0.8587\n",
      "Epoch 50/60\n",
      "7000/7000 [==============================] - 4s 567us/step - loss: 0.4538 - acc: 0.9873 - val_loss: 0.9016 - val_acc: 0.8610\n",
      "Epoch 51/60\n",
      "7000/7000 [==============================] - 4s 564us/step - loss: 0.4454 - acc: 0.9884 - val_loss: 0.8967 - val_acc: 0.8577\n",
      "Epoch 52/60\n",
      "7000/7000 [==============================] - 4s 562us/step - loss: 0.4391 - acc: 0.9879 - val_loss: 0.8718 - val_acc: 0.8667\n",
      "Epoch 53/60\n",
      "7000/7000 [==============================] - 4s 571us/step - loss: 0.4282 - acc: 0.9890 - val_loss: 0.8699 - val_acc: 0.8633\n",
      "Epoch 54/60\n",
      "7000/7000 [==============================] - 4s 563us/step - loss: 0.4212 - acc: 0.9886 - val_loss: 0.8644 - val_acc: 0.8647\n",
      "Epoch 55/60\n",
      "7000/7000 [==============================] - 4s 565us/step - loss: 0.4212 - acc: 0.9890 - val_loss: 0.8572 - val_acc: 0.8623\n",
      "Epoch 56/60\n",
      "7000/7000 [==============================] - 4s 566us/step - loss: 0.4128 - acc: 0.9877 - val_loss: 0.8517 - val_acc: 0.8590\n",
      "Epoch 57/60\n",
      "7000/7000 [==============================] - 4s 566us/step - loss: 0.4092 - acc: 0.9866 - val_loss: 0.8548 - val_acc: 0.8627\n",
      "Epoch 58/60\n",
      "7000/7000 [==============================] - 4s 562us/step - loss: 0.4011 - acc: 0.9899 - val_loss: 0.8553 - val_acc: 0.8617\n",
      "Epoch 59/60\n",
      "7000/7000 [==============================] - 4s 562us/step - loss: 0.3936 - acc: 0.9900 - val_loss: 0.8493 - val_acc: 0.8627\n",
      "Epoch 60/60\n"
     ]
    },
    {
     "name": "stdout",
     "output_type": "stream",
     "text": [
      "7000/7000 [==============================] - 4s 558us/step - loss: 0.3900 - acc: 0.9893 - val_loss: 0.8319 - val_acc: 0.8633\n"
     ]
    }
   ],
   "source": [
    "opt = optimizers.Adam(lr=1e-5)\n",
    "model.compile(optimizer=opt,\n",
    "              loss='categorical_crossentropy',\n",
    "              metrics=['accuracy'])\n",
    "\n",
    "callbacks = [\n",
    "    keras.callbacks.ModelCheckpoint(\n",
    "        filepath=model_path,\n",
    "        monitor='val_acc',\n",
    "        save_best_only=True\n",
    "    )\n",
    "]\n",
    "if os.path.isfile(model_path):\n",
    "    model.load_weights(model_path)\n",
    "\n",
    "history = model.fit(train_features, train_labels,\n",
    "                    epochs=EPOCHS,\n",
    "                    batch_size=BATCH_SIZE,\n",
    "                    callbacks=callbacks,\n",
    "                    validation_data=(validation_features, validation_labels))\n",
    "\n"
   ]
  },
  {
   "cell_type": "code",
   "execution_count": 7,
   "metadata": {},
   "outputs": [
    {
     "data": {
      "image/png": "[encoded data removed]",
      "text/plain": [
       "<Figure size 432x288 with 1 Axes>"
      ]
     },
     "metadata": {
      "needs_background": "light"
     },
     "output_type": "display_data"
    },
    {
     "data": {
      "image/png": "[encoded data removed]",
      "text/plain": [
       "<Figure size 432x288 with 1 Axes>"
      ]
     },
     "metadata": {
      "needs_background": "light"
     },
     "output_type": "display_data"
    }
   ],
   "source": [
    "import matplotlib.pyplot as plt\n",
    "acc = history.history['acc']\n",
    "val_acc = history.history['val_acc']\n",
    "loss = history.history['loss']\n",
    "val_loss = history.history['val_loss']\n",
    "epochs = range(1, len(acc) + 1)\n",
    "plt.plot(epochs, acc, 'bo', label='Training acc')\n",
    "plt.plot(epochs, val_acc, 'b', label='Validation acc')\n",
    "plt.title('Training and validation accuracy')\n",
    "plt.legend()\n",
    "plt.figure()\n",
    "plt.plot(epochs, loss, 'bo', label='Training loss')\n",
    "plt.plot(epochs, val_loss, 'b', label='Validation loss')\n",
    "plt.title('Training and validation loss')\n",
    "plt.legend()\n",
    "plt.show()"
   ]
  },
  {
   "cell_type": "code",
   "execution_count": null,
   "metadata": {},
   "outputs": [],
   "source": []
  }
 ],
 "metadata": {
  "kernelspec": {
   "display_name": "Python 3",
   "language": "python",
   "name": "python3"
  },
  "language_info": {
   "codemirror_mode": {
    "name": "ipython",
    "version": 3
   },
   "file_extension": ".py",
   "mimetype": "text/x-python",
   "name": "python",
   "nbconvert_exporter": "python",
   "pygments_lexer": "ipython3",
   "version": "3.6.5"
  }
 },
 "nbformat": 4,
 "nbformat_minor": 2
}
